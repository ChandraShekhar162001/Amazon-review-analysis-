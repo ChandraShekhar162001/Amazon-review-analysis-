{
  "nbformat": 4,
  "nbformat_minor": 0,
  "metadata": {
    "colab": {
      "name": "Untitled2.ipynb",
      "provenance": [],
      "collapsed_sections": [],
      "authorship_tag": "ABX9TyOBoj1ushVUjnsR7hdmEZw3",
      "include_colab_link": true
    },
    "kernelspec": {
      "name": "python3",
      "display_name": "Python 3"
    },
    "language_info": {
      "name": "python"
    }
  },
  "cells": [
    {
      "cell_type": "markdown",
      "metadata": {
        "id": "view-in-github",
        "colab_type": "text"
      },
      "source": [
        "<a href=\"https://colab.research.google.com/github/ChandraShekhar162001/Amazon-review-analysis-/blob/main/Amaxon_Review.ipynb\" target=\"_parent\"><img src=\"https://colab.research.google.com/assets/colab-badge.svg\" alt=\"Open In Colab\"/></a>"
      ]
    },
    {
      "cell_type": "code",
      "metadata": {
        "colab": {
          "base_uri": "https://localhost:8080/"
        },
        "id": "cqpPxZmI09Nb",
        "outputId": "a0925358-52c5-4987-c19a-b0c83935e644"
      },
      "source": [
        "import matplotlib.pyplot as plt\n",
        "import pandas as pd\n",
        "import numpy as np\n",
        "import seaborn as sns\n",
        "import math\n",
        "import warnings\n",
        "warnings.filterwarnings('ignore') # Hides warning\n",
        "warnings.filterwarnings(\"ignore\", category=DeprecationWarning)\n",
        "warnings.filterwarnings(\"ignore\",category=UserWarning)\n",
        "sns.set_style(\"whitegrid\") # Plotting style\n",
        "np.random.seed(7) # seeding random number generator\n",
        "\n",
        "df = pd.read_csv('amazon.csv')\n",
        "print(df.head())"
      ],
      "execution_count": 1,
      "outputs": [
        {
          "output_type": "stream",
          "text": [
            "                     id  ... reviews.username\n",
            "0  AVqkIhwDv8e3D1O-lebb  ...          Adapter\n",
            "1  AVqkIhwDv8e3D1O-lebb  ...           truman\n",
            "2  AVqkIhwDv8e3D1O-lebb  ...            DaveZ\n",
            "3  AVqkIhwDv8e3D1O-lebb  ...           Shacks\n",
            "4  AVqkIhwDv8e3D1O-lebb  ...        explore42\n",
            "\n",
            "[5 rows x 21 columns]\n"
          ],
          "name": "stdout"
        }
      ]
    },
    {
      "cell_type": "code",
      "metadata": {
        "colab": {
          "base_uri": "https://localhost:8080/",
          "height": 277
        },
        "id": "yVcbkmNw1_Na",
        "outputId": "4ddc8634-b1ed-4b93-c442-423d1bcf85a1"
      },
      "source": [
        "data = df.copy()\n",
        "data.describe()"
      ],
      "execution_count": 3,
      "outputs": [
        {
          "output_type": "execute_result",
          "data": {
            "text/html": [
              "<div>\n",
              "<style scoped>\n",
              "    .dataframe tbody tr th:only-of-type {\n",
              "        vertical-align: middle;\n",
              "    }\n",
              "\n",
              "    .dataframe tbody tr th {\n",
              "        vertical-align: top;\n",
              "    }\n",
              "\n",
              "    .dataframe thead th {\n",
              "        text-align: right;\n",
              "    }\n",
              "</style>\n",
              "<table border=\"1\" class=\"dataframe\">\n",
              "  <thead>\n",
              "    <tr style=\"text-align: right;\">\n",
              "      <th></th>\n",
              "      <th>reviews.didPurchase</th>\n",
              "      <th>reviews.id</th>\n",
              "      <th>reviews.numHelpful</th>\n",
              "      <th>reviews.rating</th>\n",
              "      <th>reviews.userCity</th>\n",
              "      <th>reviews.userProvince</th>\n",
              "    </tr>\n",
              "  </thead>\n",
              "  <tbody>\n",
              "    <tr>\n",
              "      <th>count</th>\n",
              "      <td>0.0</td>\n",
              "      <td>0.0</td>\n",
              "      <td>1157.000000</td>\n",
              "      <td>1157.000000</td>\n",
              "      <td>0.0</td>\n",
              "      <td>0.0</td>\n",
              "    </tr>\n",
              "    <tr>\n",
              "      <th>mean</th>\n",
              "      <td>NaN</td>\n",
              "      <td>NaN</td>\n",
              "      <td>0.278306</td>\n",
              "      <td>4.587727</td>\n",
              "      <td>NaN</td>\n",
              "      <td>NaN</td>\n",
              "    </tr>\n",
              "    <tr>\n",
              "      <th>std</th>\n",
              "      <td>NaN</td>\n",
              "      <td>NaN</td>\n",
              "      <td>2.944467</td>\n",
              "      <td>0.707318</td>\n",
              "      <td>NaN</td>\n",
              "      <td>NaN</td>\n",
              "    </tr>\n",
              "    <tr>\n",
              "      <th>min</th>\n",
              "      <td>NaN</td>\n",
              "      <td>NaN</td>\n",
              "      <td>0.000000</td>\n",
              "      <td>1.000000</td>\n",
              "      <td>NaN</td>\n",
              "      <td>NaN</td>\n",
              "    </tr>\n",
              "    <tr>\n",
              "      <th>25%</th>\n",
              "      <td>NaN</td>\n",
              "      <td>NaN</td>\n",
              "      <td>0.000000</td>\n",
              "      <td>4.000000</td>\n",
              "      <td>NaN</td>\n",
              "      <td>NaN</td>\n",
              "    </tr>\n",
              "    <tr>\n",
              "      <th>50%</th>\n",
              "      <td>NaN</td>\n",
              "      <td>NaN</td>\n",
              "      <td>0.000000</td>\n",
              "      <td>5.000000</td>\n",
              "      <td>NaN</td>\n",
              "      <td>NaN</td>\n",
              "    </tr>\n",
              "    <tr>\n",
              "      <th>75%</th>\n",
              "      <td>NaN</td>\n",
              "      <td>NaN</td>\n",
              "      <td>0.000000</td>\n",
              "      <td>5.000000</td>\n",
              "      <td>NaN</td>\n",
              "      <td>NaN</td>\n",
              "    </tr>\n",
              "    <tr>\n",
              "      <th>max</th>\n",
              "      <td>NaN</td>\n",
              "      <td>NaN</td>\n",
              "      <td>62.000000</td>\n",
              "      <td>5.000000</td>\n",
              "      <td>NaN</td>\n",
              "      <td>NaN</td>\n",
              "    </tr>\n",
              "  </tbody>\n",
              "</table>\n",
              "</div>"
            ],
            "text/plain": [
              "       reviews.didPurchase  reviews.id  ...  reviews.userCity  reviews.userProvince\n",
              "count                  0.0         0.0  ...               0.0                   0.0\n",
              "mean                   NaN         NaN  ...               NaN                   NaN\n",
              "std                    NaN         NaN  ...               NaN                   NaN\n",
              "min                    NaN         NaN  ...               NaN                   NaN\n",
              "25%                    NaN         NaN  ...               NaN                   NaN\n",
              "50%                    NaN         NaN  ...               NaN                   NaN\n",
              "75%                    NaN         NaN  ...               NaN                   NaN\n",
              "max                    NaN         NaN  ...               NaN                   NaN\n",
              "\n",
              "[8 rows x 6 columns]"
            ]
          },
          "metadata": {
            "tags": []
          },
          "execution_count": 3
        }
      ]
    },
    {
      "cell_type": "code",
      "metadata": {
        "colab": {
          "base_uri": "https://localhost:8080/"
        },
        "id": "MD903TMs2UZi",
        "outputId": "6410548d-03fd-41ba-a1df-d16f6d8c85eb"
      },
      "source": [
        "data.info()"
      ],
      "execution_count": 4,
      "outputs": [
        {
          "output_type": "stream",
          "text": [
            "<class 'pandas.core.frame.DataFrame'>\n",
            "RangeIndex: 1157 entries, 0 to 1156\n",
            "Data columns (total 21 columns):\n",
            " #   Column                Non-Null Count  Dtype  \n",
            "---  ------                --------------  -----  \n",
            " 0   id                    1157 non-null   object \n",
            " 1   name                  1157 non-null   object \n",
            " 2   asins                 1157 non-null   object \n",
            " 3   brand                 1157 non-null   object \n",
            " 4   categories            1157 non-null   object \n",
            " 5   keys                  1157 non-null   object \n",
            " 6   manufacturer          1157 non-null   object \n",
            " 7   reviews.date          1157 non-null   object \n",
            " 8   reviews.dateAdded     1157 non-null   object \n",
            " 9   reviews.dateSeen      1157 non-null   object \n",
            " 10  reviews.didPurchase   0 non-null      float64\n",
            " 11  reviews.doRecommend   1157 non-null   bool   \n",
            " 12  reviews.id            0 non-null      float64\n",
            " 13  reviews.numHelpful    1157 non-null   int64  \n",
            " 14  reviews.rating        1157 non-null   int64  \n",
            " 15  reviews.sourceURLs    1157 non-null   object \n",
            " 16  reviews.text          1157 non-null   object \n",
            " 17  reviews.title         1156 non-null   object \n",
            " 18  reviews.userCity      0 non-null      float64\n",
            " 19  reviews.userProvince  0 non-null      float64\n",
            " 20  reviews.username      1156 non-null   object \n",
            "dtypes: bool(1), float64(4), int64(2), object(14)\n",
            "memory usage: 182.0+ KB\n"
          ],
          "name": "stdout"
        }
      ]
    },
    {
      "cell_type": "code",
      "metadata": {
        "colab": {
          "base_uri": "https://localhost:8080/"
        },
        "id": "187QpMcL2reg",
        "outputId": "a566bd68-2638-439c-b628-e841fa198798"
      },
      "source": [
        "data[\"asins\"].unique()"
      ],
      "execution_count": 5,
      "outputs": [
        {
          "output_type": "execute_result",
          "data": {
            "text/plain": [
              "array(['B01AHB9CN2'], dtype=object)"
            ]
          },
          "metadata": {
            "tags": []
          },
          "execution_count": 5
        }
      ]
    },
    {
      "cell_type": "code",
      "metadata": {
        "colab": {
          "base_uri": "https://localhost:8080/"
        },
        "id": "yXBbhdWQ25xL",
        "outputId": "69190424-c0c0-47aa-bbcd-449bd55eee27"
      },
      "source": [
        "asins_unique=len(data[\"asins\"].unique())\n",
        "print(\"Number of Unique ASINS:\"+str(asins_unique))"
      ],
      "execution_count": 9,
      "outputs": [
        {
          "output_type": "stream",
          "text": [
            "Number of Unique ASINS:1\n"
          ],
          "name": "stdout"
        }
      ]
    },
    {
      "cell_type": "code",
      "metadata": {
        "colab": {
          "base_uri": "https://localhost:8080/"
        },
        "id": "k7vBAeS34W8V",
        "outputId": "5085014c-f384-4f92-89d4-fc662753b36b"
      },
      "source": [
        "from sklearn.model_selection import StratifiedShuffleSplit\n",
        "print(\"Before {}\".format(len(data)))\n",
        "dataAfter = data.dropna(subset=[\"reviews.rating\"])\n",
        "# Removes all NAN in reviews.rating\n",
        "print(\"After {}\".format(len(dataAfter)))\n",
        "dataAfter[\"reviews.rating\"] = dataAfter[\"reviews.rating\"].astype(int)\n",
        "\n",
        "split = StratifiedShuffleSplit(n_splits=5, test_size=0.2)\n",
        "for train_index, test_index in split.split(dataAfter,\n",
        "                                           dataAfter[\"reviews.rating\"]):\n",
        "    strat_train = dataAfter.reindex(train_index)\n",
        "    strat_test = dataAfter.reindex(test_index)"
      ],
      "execution_count": 15,
      "outputs": [
        {
          "output_type": "stream",
          "text": [
            "Before 1157\n",
            "After 1157\n"
          ],
          "name": "stdout"
        }
      ]
    },
    {
      "cell_type": "code",
      "metadata": {
        "colab": {
          "base_uri": "https://localhost:8080/"
        },
        "id": "5zNMC6w74jSc",
        "outputId": "42b31622-8dc2-48f5-863c-990b384932b3"
      },
      "source": [
        "print(len(strat_train))\n",
        "print(len(strat_test))\n",
        "print(strat_test[\"reviews.rating\"].value_counts()/len(strat_test))"
      ],
      "execution_count": 16,
      "outputs": [
        {
          "output_type": "stream",
          "text": [
            "925\n",
            "232\n",
            "5    0.668103\n",
            "4    0.284483\n",
            "3    0.021552\n",
            "2    0.012931\n",
            "1    0.012931\n",
            "Name: reviews.rating, dtype: float64\n"
          ],
          "name": "stdout"
        }
      ]
    },
    {
      "cell_type": "code",
      "metadata": {
        "colab": {
          "base_uri": "https://localhost:8080/",
          "height": 698
        },
        "id": "qmbpfBU84obg",
        "outputId": "4e389b18-1eef-4dcc-f4c5-2afee76dd960"
      },
      "source": [
        "reviews = strat_train.copy()\n",
        "reviews.head()"
      ],
      "execution_count": 17,
      "outputs": [
        {
          "output_type": "execute_result",
          "data": {
            "text/html": [
              "<div>\n",
              "<style scoped>\n",
              "    .dataframe tbody tr th:only-of-type {\n",
              "        vertical-align: middle;\n",
              "    }\n",
              "\n",
              "    .dataframe tbody tr th {\n",
              "        vertical-align: top;\n",
              "    }\n",
              "\n",
              "    .dataframe thead th {\n",
              "        text-align: right;\n",
              "    }\n",
              "</style>\n",
              "<table border=\"1\" class=\"dataframe\">\n",
              "  <thead>\n",
              "    <tr style=\"text-align: right;\">\n",
              "      <th></th>\n",
              "      <th>id</th>\n",
              "      <th>name</th>\n",
              "      <th>asins</th>\n",
              "      <th>brand</th>\n",
              "      <th>categories</th>\n",
              "      <th>keys</th>\n",
              "      <th>manufacturer</th>\n",
              "      <th>reviews.date</th>\n",
              "      <th>reviews.dateAdded</th>\n",
              "      <th>reviews.dateSeen</th>\n",
              "      <th>reviews.didPurchase</th>\n",
              "      <th>reviews.doRecommend</th>\n",
              "      <th>reviews.id</th>\n",
              "      <th>reviews.numHelpful</th>\n",
              "      <th>reviews.rating</th>\n",
              "      <th>reviews.sourceURLs</th>\n",
              "      <th>reviews.text</th>\n",
              "      <th>reviews.title</th>\n",
              "      <th>reviews.userCity</th>\n",
              "      <th>reviews.userProvince</th>\n",
              "      <th>reviews.username</th>\n",
              "    </tr>\n",
              "  </thead>\n",
              "  <tbody>\n",
              "    <tr>\n",
              "      <th>860</th>\n",
              "      <td>AVqkIhwDv8e3D1O-lebb</td>\n",
              "      <td>All-New Fire HD 8 Tablet, 8 HD Display, Wi-Fi,...</td>\n",
              "      <td>B01AHB9CN2</td>\n",
              "      <td>Amazon</td>\n",
              "      <td>Electronics,iPad &amp; Tablets,All Tablets,Fire Ta...</td>\n",
              "      <td>841667104676,amazon/53004484,amazon/b01ahb9cn2...</td>\n",
              "      <td>Amazon</td>\n",
              "      <td>2017-03-15T00:00:00.000Z</td>\n",
              "      <td>2017-05-21T05:55:38Z</td>\n",
              "      <td>2017-04-30T00:42:00.000Z,2017-06-07T09:03:00.000Z</td>\n",
              "      <td>NaN</td>\n",
              "      <td>True</td>\n",
              "      <td>NaN</td>\n",
              "      <td>0</td>\n",
              "      <td>5</td>\n",
              "      <td>http://reviews.bestbuy.com/3545/5620406/review...</td>\n",
              "      <td>I traded this in after receiving a 7\" at Chris...</td>\n",
              "      <td>Love it</td>\n",
              "      <td>NaN</td>\n",
              "      <td>NaN</td>\n",
              "      <td>Sandy</td>\n",
              "    </tr>\n",
              "    <tr>\n",
              "      <th>1021</th>\n",
              "      <td>AVqkIhwDv8e3D1O-lebb</td>\n",
              "      <td>All-New Fire HD 8 Tablet, 8 HD Display, Wi-Fi,...</td>\n",
              "      <td>B01AHB9CN2</td>\n",
              "      <td>Amazon</td>\n",
              "      <td>Electronics,iPad &amp; Tablets,All Tablets,Fire Ta...</td>\n",
              "      <td>841667104676,amazon/53004484,amazon/b01ahb9cn2...</td>\n",
              "      <td>Amazon</td>\n",
              "      <td>2017-02-15T00:00:00.000Z</td>\n",
              "      <td>2017-05-21T05:55:57Z</td>\n",
              "      <td>2017-04-30T00:42:00.000Z,2017-06-07T09:04:00.000Z</td>\n",
              "      <td>NaN</td>\n",
              "      <td>True</td>\n",
              "      <td>NaN</td>\n",
              "      <td>0</td>\n",
              "      <td>4</td>\n",
              "      <td>http://reviews.bestbuy.com/3545/5620406/review...</td>\n",
              "      <td>purchased for my sister for reading books, int...</td>\n",
              "      <td>perfect for first time user</td>\n",
              "      <td>NaN</td>\n",
              "      <td>NaN</td>\n",
              "      <td>rkfb</td>\n",
              "    </tr>\n",
              "    <tr>\n",
              "      <th>701</th>\n",
              "      <td>AVqkIhwDv8e3D1O-lebb</td>\n",
              "      <td>All-New Fire HD 8 Tablet, 8 HD Display, Wi-Fi,...</td>\n",
              "      <td>B01AHB9CN2</td>\n",
              "      <td>Amazon</td>\n",
              "      <td>Electronics,iPad &amp; Tablets,All Tablets,Fire Ta...</td>\n",
              "      <td>841667104676,amazon/53004484,amazon/b01ahb9cn2...</td>\n",
              "      <td>Amazon</td>\n",
              "      <td>2017-04-01T00:00:00.000Z</td>\n",
              "      <td>2017-05-21T05:55:25Z</td>\n",
              "      <td>2017-04-30T00:41:00.000Z,2017-06-07T09:03:00.000Z</td>\n",
              "      <td>NaN</td>\n",
              "      <td>True</td>\n",
              "      <td>NaN</td>\n",
              "      <td>0</td>\n",
              "      <td>4</td>\n",
              "      <td>http://reviews.bestbuy.com/3545/5620406/review...</td>\n",
              "      <td>Bought this for my wife and she loves it! This...</td>\n",
              "      <td>Good for price</td>\n",
              "      <td>NaN</td>\n",
              "      <td>NaN</td>\n",
              "      <td>Lefty</td>\n",
              "    </tr>\n",
              "    <tr>\n",
              "      <th>576</th>\n",
              "      <td>AVqkIhwDv8e3D1O-lebb</td>\n",
              "      <td>All-New Fire HD 8 Tablet, 8 HD Display, Wi-Fi,...</td>\n",
              "      <td>B01AHB9CN2</td>\n",
              "      <td>Amazon</td>\n",
              "      <td>Electronics,iPad &amp; Tablets,All Tablets,Fire Ta...</td>\n",
              "      <td>841667104676,amazon/53004484,amazon/b01ahb9cn2...</td>\n",
              "      <td>Amazon</td>\n",
              "      <td>2016-10-29T00:00:00.000Z</td>\n",
              "      <td>2017-05-21T05:51:36Z</td>\n",
              "      <td>2017-04-30T00:39:00.000Z,2017-06-07T09:00:00.000Z</td>\n",
              "      <td>NaN</td>\n",
              "      <td>True</td>\n",
              "      <td>NaN</td>\n",
              "      <td>0</td>\n",
              "      <td>5</td>\n",
              "      <td>http://reviews.bestbuy.com/3545/5620406/review...</td>\n",
              "      <td>The new Fire HD 8 is an improvement over the F...</td>\n",
              "      <td>Great Replacement for my Kindle Fire HD 7</td>\n",
              "      <td>NaN</td>\n",
              "      <td>NaN</td>\n",
              "      <td>GrannyL</td>\n",
              "    </tr>\n",
              "    <tr>\n",
              "      <th>596</th>\n",
              "      <td>AVqkIhwDv8e3D1O-lebb</td>\n",
              "      <td>All-New Fire HD 8 Tablet, 8 HD Display, Wi-Fi,...</td>\n",
              "      <td>B01AHB9CN2</td>\n",
              "      <td>Amazon</td>\n",
              "      <td>Electronics,iPad &amp; Tablets,All Tablets,Fire Ta...</td>\n",
              "      <td>841667104676,amazon/53004484,amazon/b01ahb9cn2...</td>\n",
              "      <td>Amazon</td>\n",
              "      <td>2016-10-25T00:00:00.000Z</td>\n",
              "      <td>2017-05-21T05:51:37Z</td>\n",
              "      <td>2017-04-30T00:39:00.000Z,2017-06-07T09:00:00.000Z</td>\n",
              "      <td>NaN</td>\n",
              "      <td>True</td>\n",
              "      <td>NaN</td>\n",
              "      <td>2</td>\n",
              "      <td>4</td>\n",
              "      <td>http://reviews.bestbuy.com/3545/5620406/review...</td>\n",
              "      <td>Very descent for a non-IPAD. Good speakers. Gr...</td>\n",
              "      <td>Very descent</td>\n",
              "      <td>NaN</td>\n",
              "      <td>NaN</td>\n",
              "      <td>GvilleGuy</td>\n",
              "    </tr>\n",
              "  </tbody>\n",
              "</table>\n",
              "</div>"
            ],
            "text/plain": [
              "                        id  ... reviews.username\n",
              "860   AVqkIhwDv8e3D1O-lebb  ...            Sandy\n",
              "1021  AVqkIhwDv8e3D1O-lebb  ...             rkfb\n",
              "701   AVqkIhwDv8e3D1O-lebb  ...            Lefty\n",
              "576   AVqkIhwDv8e3D1O-lebb  ...          GrannyL\n",
              "596   AVqkIhwDv8e3D1O-lebb  ...        GvilleGuy\n",
              "\n",
              "[5 rows x 21 columns]"
            ]
          },
          "metadata": {
            "tags": []
          },
          "execution_count": 17
        }
      ]
    },
    {
      "cell_type": "code",
      "metadata": {
        "colab": {
          "base_uri": "https://localhost:8080/"
        },
        "id": "ET8WueBF4wN6",
        "outputId": "b12e9e14-9720-46a2-a40d-d86333021b4b"
      },
      "source": [
        "print(len(reviews[\"name\"].unique()), len(reviews[\"asins\"].unique()))\n",
        "print(reviews.info())\n",
        "print(reviews.groupby(\"asins\")[\"name\"].unique())"
      ],
      "execution_count": 18,
      "outputs": [
        {
          "output_type": "stream",
          "text": [
            "1 1\n",
            "<class 'pandas.core.frame.DataFrame'>\n",
            "Int64Index: 925 entries, 860 to 456\n",
            "Data columns (total 21 columns):\n",
            " #   Column                Non-Null Count  Dtype  \n",
            "---  ------                --------------  -----  \n",
            " 0   id                    925 non-null    object \n",
            " 1   name                  925 non-null    object \n",
            " 2   asins                 925 non-null    object \n",
            " 3   brand                 925 non-null    object \n",
            " 4   categories            925 non-null    object \n",
            " 5   keys                  925 non-null    object \n",
            " 6   manufacturer          925 non-null    object \n",
            " 7   reviews.date          925 non-null    object \n",
            " 8   reviews.dateAdded     925 non-null    object \n",
            " 9   reviews.dateSeen      925 non-null    object \n",
            " 10  reviews.didPurchase   0 non-null      float64\n",
            " 11  reviews.doRecommend   925 non-null    bool   \n",
            " 12  reviews.id            0 non-null      float64\n",
            " 13  reviews.numHelpful    925 non-null    int64  \n",
            " 14  reviews.rating        925 non-null    int64  \n",
            " 15  reviews.sourceURLs    925 non-null    object \n",
            " 16  reviews.text          925 non-null    object \n",
            " 17  reviews.title         924 non-null    object \n",
            " 18  reviews.userCity      0 non-null      float64\n",
            " 19  reviews.userProvince  0 non-null      float64\n",
            " 20  reviews.username      924 non-null    object \n",
            "dtypes: bool(1), float64(4), int64(2), object(14)\n",
            "memory usage: 152.7+ KB\n",
            "None\n",
            "asins\n",
            "B01AHB9CN2    [All-New Fire HD 8 Tablet, 8 HD Display, Wi-Fi...\n",
            "Name: name, dtype: object\n"
          ],
          "name": "stdout"
        }
      ]
    },
    {
      "cell_type": "code",
      "metadata": {
        "colab": {
          "base_uri": "https://localhost:8080/"
        },
        "id": "9F9Stb0b45_B",
        "outputId": "91f488da-c548-424d-fb9c-fb55f08c63fc"
      },
      "source": [
        "different_names = reviews[reviews[\"asins\"] ==\n",
        "                          \"B00L9EPT8O,B01E6AO69U\"][\"name\"].unique()\n",
        "for name in different_names:\n",
        "    print(name)\n",
        "print(reviews[reviews[\"asins\"] == \"B00L9EPT8O,B01E6AO69U\"][\"name\"].value_counts())"
      ],
      "execution_count": 20,
      "outputs": [
        {
          "output_type": "stream",
          "text": [
            "Series([], Name: name, dtype: int64)\n"
          ],
          "name": "stdout"
        }
      ]
    },
    {
      "cell_type": "code",
      "metadata": {
        "colab": {
          "base_uri": "https://localhost:8080/",
          "height": 665
        },
        "id": "n0YLBH3G5QdJ",
        "outputId": "70f7dea6-0026-4e5e-b0e8-6a6f6241b214"
      },
      "source": [
        "fig = plt.figure(figsize=(16,10))\n",
        "ax1 = plt.subplot(211)\n",
        "ax2 = plt.subplot(212, sharex = ax1)\n",
        "reviews[\"asins\"].value_counts().plot(kind=\"bar\", ax=ax1, title=\"ASIN Frequency\")\n",
        "np.log10(reviews[\"asins\"].value_counts()).plot(kind=\"bar\", ax=ax2,\n",
        "                                               title=\"ASIN Frequency (Log10 Adjusted)\")\n",
        "plt.show()"
      ],
      "execution_count": 21,
      "outputs": [
        {
          "output_type": "display_data",
          "data": {
            "image/png": "[encoded data removed]",
            "text/plain": [
              "<Figure size 1152x720 with 2 Axes>"
            ]
          },
          "metadata": {
            "tags": [],
            "needs_background": "light"
          }
        }
      ]
    },
    {
      "cell_type": "code",
      "metadata": {
        "colab": {
          "base_uri": "https://localhost:8080/",
          "height": 803
        },
        "id": "N1HGnW2m5ZVs",
        "outputId": "7cc54ebc-a5f9-48bb-fc12-e02d6c6a7daa"
      },
      "source": [
        "print(reviews[\"reviews.rating\"].mean())\n",
        "\n",
        "asins_count_ix = reviews[\"asins\"].value_counts().index\n",
        "plt.subplots(2,1,figsize=(16,12))\n",
        "plt.subplot(2,1,1)\n",
        "reviews[\"asins\"].value_counts().plot(kind=\"bar\", title=\"ASIN Frequency\")\n",
        "plt.subplot(2,1,2)\n",
        "sns.pointplot(x=\"asins\", y=\"reviews.rating\", order=asins_count_ix, data=reviews)\n",
        "plt.xticks(rotation=90)\n",
        "plt.show()"
      ],
      "execution_count": 22,
      "outputs": [
        {
          "output_type": "stream",
          "text": [
            "4.589189189189189\n"
          ],
          "name": "stdout"
        },
        {
          "output_type": "display_data",
          "data": {
            "image/png": "[encoded data removed]",
            "text/plain": [
              "<Figure size 1152x864 with 2 Axes>"
            ]
          },
          "metadata": {
            "tags": [],
            "needs_background": "light"
          }
        }
      ]
    },
    {
      "cell_type": "code",
      "metadata": {
        "colab": {
          "base_uri": "https://localhost:8080/"
        },
        "id": "YhP9-T5C5f72",
        "outputId": "5416ab5a-efb8-48e9-c48b-a32dbe88ba7a"
      },
      "source": [
        "def sentiments(rating):\n",
        "    if (rating == 5) or (rating == 4):\n",
        "        return \"Positive\"\n",
        "    elif rating == 3:\n",
        "        return \"Neutral\"\n",
        "    elif (rating == 2) or (rating == 1):\n",
        "        return \"Negative\"\n",
        "# Add sentiments to the data\n",
        "strat_train[\"Sentiment\"] = strat_train[\"reviews.rating\"].apply(sentiments)\n",
        "strat_test[\"Sentiment\"] = strat_test[\"reviews.rating\"].apply(sentiments)\n",
        "print(strat_train[\"Sentiment\"][:20])"
      ],
      "execution_count": 23,
      "outputs": [
        {
          "output_type": "stream",
          "text": [
            "860     Positive\n",
            "1021    Positive\n",
            "701     Positive\n",
            "576     Positive\n",
            "596     Positive\n",
            "897     Positive\n",
            "1025    Positive\n",
            "1135    Positive\n",
            "69      Positive\n",
            "794     Positive\n",
            "300     Positive\n",
            "1145    Positive\n",
            "1132    Positive\n",
            "358     Positive\n",
            "888     Positive\n",
            "270     Positive\n",
            "146     Positive\n",
            "282     Positive\n",
            "1156    Positive\n",
            "565     Positive\n",
            "Name: Sentiment, dtype: object\n"
          ],
          "name": "stdout"
        }
      ]
    }
  ]
}