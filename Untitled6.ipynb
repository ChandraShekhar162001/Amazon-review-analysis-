{
  "nbformat": 4,
  "nbformat_minor": 0,
  "metadata": {
    "colab": {
      "name": "Untitled6.ipynb",
      "provenance": [],
      "collapsed_sections": [],
      "authorship_tag": "ABX9TyOcmK47p6urdSh4SKGp/Y/o",
      "include_colab_link": true
    },
    "kernelspec": {
      "name": "python3",
      "display_name": "Python 3"
    },
    "language_info": {
      "name": "python"
    }
  },
  "cells": [
    {
      "cell_type": "markdown",
      "metadata": {
        "id": "view-in-github",
        "colab_type": "text"
      },
      "source": [
        "<a href=\"https://colab.research.google.com/github/ChandraShekhar162001/Amazon-review-analysis-/blob/main/Untitled6.ipynb\" target=\"_parent\"><img src=\"https://colab.research.google.com/assets/colab-badge.svg\" alt=\"Open In Colab\"/></a>"
      ]
    },
    {
      "cell_type": "code",
      "metadata": {
        "id": "csFBtmZku5Om"
      },
      "source": [
        "import requests\n",
        "from datetime import datetime \n",
        "\n",
        "base_url=\"https://cdn-api.co-vin.in/api/v2/appointment/sessions/public/calendarByDistrict\"\n",
        "now=datetime.now()\n",
        "today_date=now.strftime(\"%d-%m-%Y\")\n",
        "group_id=\"surat_corporation\"\n",
        "api_telegram=\"https://api.telegram.org/bot1748658539:AAG3tabLdWBU06BCFe5Ho5AF4gOmc0lJPCI/sendMessage?chat_id=@__groupid__&text\"\n",
        "\n",
        "Gujarat_District_id={776}\n",
        "\n",
        "def fetch_data_cowin(district_id):\n",
        "  query_params=\"?district_id={}&date={}\".format(district_id,today_date)\n",
        "  headers={'User-Agent': 'Mozilla/5.0 (X11; Linux x86_64) AppleWebKit/537.11 (KHTML, like Gecko) Chrome/23.0.1271.64 Safari/537.11',\n",
        "       'Accept': 'text/html,application/xhtml+xml,application/xml;q=0.9,*/*;q=0.8',\n",
        "       'Accept-Charset': 'ISO-8859-1,utf-8;q=0.7,*;q=0.3',\n",
        "       'Accept-Encoding': 'none',\n",
        "       'Accept-Language': 'en-US,en;q=0.8',\n",
        "       'Connection': 'keep-alive'}\n",
        "  final_url=base_url+query_params\n",
        "  response=requests.get(final_url,headers=headers)\n",
        "  extract_availability_data(response)\n",
        "  #print(response.text)\n",
        "\n",
        "def fetch_data_for_state(district_id):\n",
        "  for district_id in district_ids:\n",
        "    fetch_data_from_cowin(district_id)\n",
        "\n",
        "def extract_availability_data(response):\n",
        "  response_json=response.json()\n",
        "  for centers in response_json[\"centers\"]:\n",
        "    for session in centers[\"sessions\"]:\n",
        "      if session[\"available_capacity_dose1\"]>0 and session[\"Minimum_age_limit\"]==45:\n",
        "        message=\"pincode:{}, Name:{}, Slots:{}, minimum Age:{}\".format(center[\"pincode\"],\n",
        "        center[\"center_id\"],center[\"name\"],session[\"available_capacity_dose1\"],session[\"Minimum_age_limit\"])\n",
        "        send_message_telegram(message)\n",
        "\n",
        "def send_message_telegram(message):\n",
        "  final_telegram_url=api_telegram.replace(\"__groupid__\",group_id)\n",
        "  final_telegram_url=final_telegram_url+message\n",
        "  response=request.get(final_telegram_url)\n",
        "  print(response)\n",
        "\n",
        "if __name__==\"__main__\":\n",
        "  fetch_data_cowin(776)"
      ],
      "execution_count": null,
      "outputs": []
    }
  ]
}